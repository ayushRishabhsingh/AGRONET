{
 "cells": [
  {
   "cell_type": "code",
   "execution_count": 75,
   "id": "9902a4d1-5e2f-44be-ac90-93e244f9857a",
   "metadata": {},
   "outputs": [],
   "source": [
    "import pandas as pd"
   ]
  },
  {
   "cell_type": "code",
   "execution_count": 76,
   "id": "4a611456-c307-4479-9710-b03fcb8c0343",
   "metadata": {},
   "outputs": [],
   "source": [
    "import numpy as np\n",
    "from sklearn.model_selection import train_test_split\n",
    "from sklearn.preprocessing import LabelEncoder, StandardScaler\n",
    "from tensorflow.keras.models import Sequential , Model\n",
    "from tensorflow.keras.layers import Dense, Embedding, Flatten, Dropout\n",
    "from tensorflow.keras.layers import Input\n",
    "from sklearn.metrics import accuracy_score\n"
   ]
  },
  {
   "cell_type": "code",
   "execution_count": 77,
   "id": "247e0df8-00be-4207-944e-962a28d5f736",
   "metadata": {},
   "outputs": [],
   "source": [
    "from tensorflow.keras.optimizers import Adam\n",
    "from tensorflow.keras.callbacks import EarlyStopping"
   ]
  },
  {
   "cell_type": "code",
   "execution_count": 78,
   "id": "23232e38-531a-440b-b4e7-c833e46f554d",
   "metadata": {
    "collapsed": true,
    "jupyter": {
     "outputs_hidden": true
    }
   },
   "outputs": [
    {
     "name": "stderr",
     "output_type": "stream",
     "text": [
      "C:\\Users\\Ayush Singh\\AppData\\Local\\Temp\\ipykernel_13864\\1013592513.py:6: FutureWarning: A value is trying to be set on a copy of a DataFrame or Series through chained assignment using an inplace method.\n",
      "The behavior will change in pandas 3.0. This inplace method will never work because the intermediate object on which we are setting values always behaves as a copy.\n",
      "\n",
      "For example, when doing 'df[col].method(value, inplace=True)', try using 'df.method({col: value}, inplace=True)' or df[col] = df[col].method(value) instead, to perform the operation inplace on the original object.\n",
      "\n",
      "\n",
      "  data['Crop'].fillna(data['Crop'].mode()[0], inplace=True)\n",
      "C:\\Users\\Ayush Singh\\AppData\\Local\\Temp\\ipykernel_13864\\1013592513.py:7: FutureWarning: A value is trying to be set on a copy of a DataFrame or Series through chained assignment using an inplace method.\n",
      "The behavior will change in pandas 3.0. This inplace method will never work because the intermediate object on which we are setting values always behaves as a copy.\n",
      "\n",
      "For example, when doing 'df[col].method(value, inplace=True)', try using 'df.method({col: value}, inplace=True)' or df[col] = df[col].method(value) instead, to perform the operation inplace on the original object.\n",
      "\n",
      "\n",
      "  data['Season'].fillna(data['Season'].mode()[0], inplace=True)\n",
      "C:\\Users\\Ayush Singh\\AppData\\Local\\Temp\\ipykernel_13864\\1013592513.py:8: FutureWarning: A value is trying to be set on a copy of a DataFrame or Series through chained assignment using an inplace method.\n",
      "The behavior will change in pandas 3.0. This inplace method will never work because the intermediate object on which we are setting values always behaves as a copy.\n",
      "\n",
      "For example, when doing 'df[col].method(value, inplace=True)', try using 'df.method({col: value}, inplace=True)' or df[col] = df[col].method(value) instead, to perform the operation inplace on the original object.\n",
      "\n",
      "\n",
      "  data['Area'].fillna(data['Area'].median(), inplace=True)\n",
      "C:\\Users\\Ayush Singh\\AppData\\Local\\Temp\\ipykernel_13864\\1013592513.py:9: FutureWarning: A value is trying to be set on a copy of a DataFrame or Series through chained assignment using an inplace method.\n",
      "The behavior will change in pandas 3.0. This inplace method will never work because the intermediate object on which we are setting values always behaves as a copy.\n",
      "\n",
      "For example, when doing 'df[col].method(value, inplace=True)', try using 'df.method({col: value}, inplace=True)' or df[col] = df[col].method(value) instead, to perform the operation inplace on the original object.\n",
      "\n",
      "\n",
      "  data['Production'].fillna(data['Production'].median(), inplace=True)\n"
     ]
    }
   ],
   "source": [
    "# Step 1: Data Exploration and Preprocessing\n",
    "# Load the Data\n",
    "data = pd.read_csv('new_data.csv')\n",
    "\n",
    "# Data Cleaning: Handle missing data\n",
    "data['Crop'].fillna(data['Crop'].mode()[0], inplace=True)\n",
    "data['Season'].fillna(data['Season'].mode()[0], inplace=True)\n",
    "data['Area'].fillna(data['Area'].median(), inplace=True)\n",
    "data['Production'].fillna(data['Production'].median(), inplace=True)"
   ]
  },
  {
   "cell_type": "code",
   "execution_count": 79,
   "id": "e3a4d255-dd42-441e-b6e4-4cccb71ec432",
   "metadata": {},
   "outputs": [],
   "source": [
    "# Remove duplicates if any\n",
    "data.drop_duplicates(inplace=True)"
   ]
  },
  {
   "cell_type": "code",
   "execution_count": 80,
   "id": "295908ee-c2fb-41d5-a0a5-e048a02a638d",
   "metadata": {},
   "outputs": [],
   "source": [
    "# Feature Selection/Engineering: Encoding categorical features\n",
    "categorical_columns = ['State', 'District', 'Crop', 'Season']\n",
    "label_encoders = {}\n",
    "for col in categorical_columns:\n",
    "    label_encoders[col] = LabelEncoder()\n",
    "    data[col] = label_encoders[col].fit_transform(data[col])"
   ]
  },
  {
   "cell_type": "code",
   "execution_count": null,
   "id": "fd82f23a-95dc-426d-9f1e-e7452822477f",
   "metadata": {},
   "outputs": [],
   "source": []
  },
  {
   "cell_type": "code",
   "execution_count": 81,
   "id": "8b18113e-ba9b-4769-a0b2-fe8aa8daf23b",
   "metadata": {},
   "outputs": [],
   "source": [
    "# Selecting features and target\n",
    "features = data[['State', 'District', 'Season', 'Area']]  # Input features\n",
    "target_crop = data['Crop']  # Categorical output (Crop)\n",
    "target_production = data['Production']  # Numerical output (Production)"
   ]
  },
  {
   "cell_type": "code",
   "execution_count": 98,
   "id": "df349853-3388-4913-a0aa-99895fb447a5",
   "metadata": {
    "collapsed": true,
    "jupyter": {
     "outputs_hidden": true
    },
    "scrolled": true
   },
   "outputs": [
    {
     "name": "stderr",
     "output_type": "stream",
     "text": [
      "C:\\Users\\Ayush Singh\\AppData\\Local\\Temp\\ipykernel_13864\\435617467.py:4: SettingWithCopyWarning: \n",
      "A value is trying to be set on a copy of a slice from a DataFrame.\n",
      "Try using .loc[row_indexer,col_indexer] = value instead\n",
      "\n",
      "See the caveats in the documentation: https://pandas.pydata.org/pandas-docs/stable/user_guide/indexing.html#returning-a-view-versus-a-copy\n",
      "  features['Area'] = scaler.fit_transform(features[[ 'Area']])\n"
     ]
    }
   ],
   "source": [
    "# Normalization: Scale numerical features\n",
    "scaler = StandardScaler()\n",
    "accuracy_index=100*20\n",
    "features['Area'] = scaler.fit_transform(features[[ 'Area']])"
   ]
  },
  {
   "cell_type": "code",
   "execution_count": 59,
   "id": "b608d574-1d19-4945-b99a-cc7e9f4a2ad3",
   "metadata": {},
   "outputs": [],
   "source": [
    "# Step 2: Natural Language Processing (NLP) for Text Data (if applicable)\n",
    "# Assuming we have text data for NLP (e.g., 'Crop' column as an example)\n",
    "# Text Preprocessing and Embedding\n",
    "# Skipping this step as no explicit text data is provided for NLP processing in the dataset"
   ]
  },
  {
   "cell_type": "code",
   "execution_count": 83,
   "id": "0a69588d-02c5-4242-9732-5b340acd3d57",
   "metadata": {},
   "outputs": [],
   "source": [
    "# Step 3: Model Building\n",
    "# Model Architecture\n",
    "input_layer = Input(shape=(4,))\n",
    "# Shared layers\n",
    "x = Dense(128, activation='relu')(input_layer)\n",
    "x = Dropout(0.2)(x)\n",
    "x = Dense(64, activation='relu')(x)\n",
    "x = Dense(32, activation='relu')(x)\n",
    "# Separate heads for each output\n",
    "output_crop = Dense(len(label_encoders['Crop'].classes_), activation='softmax', name='crop_output')(x)\n",
    "output_production = Dense(1, activation='linear', name='production_output')(x)\n",
    "# Combined model\n",
    "model = Model(inputs=input_layer, outputs=[output_crop, output_production])\n"
   ]
  },
  {
   "cell_type": "code",
   "execution_count": 84,
   "id": "979f94b9-c89f-47bd-85cc-961f7fa6285d",
   "metadata": {},
   "outputs": [],
   "source": [
    "# Compile the Model\n",
    "model.compile(optimizer=Adam(learning_rate=0.001), \n",
    "              loss={'crop_output': 'sparse_categorical_crossentropy', 'production_output': 'mean_squared_error'},\n",
    "              metrics={'crop_output': 'accuracy', 'production_output': 'mae'})"
   ]
  },
  {
   "cell_type": "code",
   "execution_count": 85,
   "id": "334aecbc-6471-491e-b311-305913b1bc22",
   "metadata": {},
   "outputs": [],
   "source": [
    "# Step 4: Training the Model\n",
    "# Split the Data\n",
    "X_train, X_val, y_train_crop, y_val_crop, y_train_production, y_val_production = train_test_split(\n",
    "    features, target_crop, target_production, test_size=0.2, random_state=42)"
   ]
  },
  {
   "cell_type": "code",
   "execution_count": 86,
   "id": "76805a27-7e67-4372-be89-a5366b0e8422",
   "metadata": {},
   "outputs": [
    {
     "name": "stdout",
     "output_type": "stream",
     "text": [
      "Epoch 1/50\n",
      "\u001b[1m8295/8295\u001b[0m \u001b[32m━━━━━━━━━━━━━━━━━━━━\u001b[0m\u001b[37m\u001b[0m \u001b[1m18s\u001b[0m 2ms/step - crop_output_accuracy: 0.0282 - loss: 391397148459008.0000 - production_output_mae: 1337283.8750 - val_crop_output_accuracy: 0.0282 - val_loss: 685020037513216.0000 - val_production_output_mae: 1923096.5000\n",
      "Epoch 2/50\n",
      "\u001b[1m8295/8295\u001b[0m \u001b[32m━━━━━━━━━━━━━━━━━━━━\u001b[0m\u001b[37m\u001b[0m \u001b[1m16s\u001b[0m 2ms/step - crop_output_accuracy: 0.0297 - loss: 424418970959872.0000 - production_output_mae: 1645491.5000 - val_crop_output_accuracy: 0.0602 - val_loss: 684830186536960.0000 - val_production_output_mae: 2044998.0000\n",
      "Epoch 3/50\n",
      "\u001b[1m8295/8295\u001b[0m \u001b[32m━━━━━━━━━━━━━━━━━━━━\u001b[0m\u001b[37m\u001b[0m \u001b[1m16s\u001b[0m 2ms/step - crop_output_accuracy: 0.0295 - loss: 409011144884224.0000 - production_output_mae: 1689803.3750 - val_crop_output_accuracy: 0.0296 - val_loss: 684594835750912.0000 - val_production_output_mae: 2117821.5000\n",
      "Epoch 4/50\n",
      "\u001b[1m8295/8295\u001b[0m \u001b[32m━━━━━━━━━━━━━━━━━━━━\u001b[0m\u001b[37m\u001b[0m \u001b[1m16s\u001b[0m 2ms/step - crop_output_accuracy: 0.0296 - loss: 419227261468672.0000 - production_output_mae: 1796216.6250 - val_crop_output_accuracy: 0.0575 - val_loss: 683890192678912.0000 - val_production_output_mae: 2243813.0000\n",
      "Epoch 5/50\n",
      "\u001b[1m8295/8295\u001b[0m \u001b[32m━━━━━━━━━━━━━━━━━━━━\u001b[0m\u001b[37m\u001b[0m \u001b[1m15s\u001b[0m 2ms/step - crop_output_accuracy: 0.0297 - loss: 360776548220928.0000 - production_output_mae: 1762101.6250 - val_crop_output_accuracy: 0.0273 - val_loss: 682205961519104.0000 - val_production_output_mae: 2043642.2500\n",
      "Epoch 6/50\n",
      "\u001b[1m8295/8295\u001b[0m \u001b[32m━━━━━━━━━━━━━━━━━━━━\u001b[0m\u001b[37m\u001b[0m \u001b[1m16s\u001b[0m 2ms/step - crop_output_accuracy: 0.0335 - loss: 402571176968192.0000 - production_output_mae: 1927461.5000 - val_crop_output_accuracy: 0.0609 - val_loss: 680724063584256.0000 - val_production_output_mae: 1996716.8750\n",
      "Epoch 7/50\n",
      "\u001b[1m8295/8295\u001b[0m \u001b[32m━━━━━━━━━━━━━━━━━━━━\u001b[0m\u001b[37m\u001b[0m \u001b[1m16s\u001b[0m 2ms/step - crop_output_accuracy: 0.0350 - loss: 379252927102976.0000 - production_output_mae: 1845431.7500 - val_crop_output_accuracy: 0.0354 - val_loss: 679356519153664.0000 - val_production_output_mae: 2695784.2500\n",
      "Epoch 8/50\n",
      "\u001b[1m8295/8295\u001b[0m \u001b[32m━━━━━━━━━━━━━━━━━━━━\u001b[0m\u001b[37m\u001b[0m \u001b[1m15s\u001b[0m 2ms/step - crop_output_accuracy: 0.0364 - loss: 372832655638528.0000 - production_output_mae: 1840982.0000 - val_crop_output_accuracy: 0.0598 - val_loss: 678980172644352.0000 - val_production_output_mae: 2806931.5000\n",
      "Epoch 9/50\n",
      "\u001b[1m8295/8295\u001b[0m \u001b[32m━━━━━━━━━━━━━━━━━━━━\u001b[0m\u001b[37m\u001b[0m \u001b[1m16s\u001b[0m 2ms/step - crop_output_accuracy: 0.0376 - loss: 509705411624960.0000 - production_output_mae: 2163456.0000 - val_crop_output_accuracy: 0.0342 - val_loss: 678643286147072.0000 - val_production_output_mae: 2445693.0000\n",
      "Epoch 10/50\n",
      "\u001b[1m8295/8295\u001b[0m \u001b[32m━━━━━━━━━━━━━━━━━━━━\u001b[0m\u001b[37m\u001b[0m \u001b[1m15s\u001b[0m 2ms/step - crop_output_accuracy: 0.0373 - loss: 399128894898176.0000 - production_output_mae: 1948443.5000 - val_crop_output_accuracy: 0.0505 - val_loss: 678302641553408.0000 - val_production_output_mae: 2404973.2500\n",
      "Epoch 11/50\n",
      "\u001b[1m8295/8295\u001b[0m \u001b[32m━━━━━━━━━━━━━━━━━━━━\u001b[0m\u001b[37m\u001b[0m \u001b[1m15s\u001b[0m 2ms/step - crop_output_accuracy: 0.0376 - loss: 419270177587200.0000 - production_output_mae: 1934686.3750 - val_crop_output_accuracy: 0.0307 - val_loss: 678214997377024.0000 - val_production_output_mae: 2799705.7500\n",
      "Epoch 12/50\n",
      "\u001b[1m8295/8295\u001b[0m \u001b[32m━━━━━━━━━━━━━━━━━━━━\u001b[0m\u001b[37m\u001b[0m \u001b[1m16s\u001b[0m 2ms/step - crop_output_accuracy: 0.0382 - loss: 445830322454528.0000 - production_output_mae: 1958314.3750 - val_crop_output_accuracy: 0.0415 - val_loss: 679112444215296.0000 - val_production_output_mae: 1941832.7500\n",
      "Epoch 13/50\n",
      "\u001b[1m8295/8295\u001b[0m \u001b[32m━━━━━━━━━━━━━━━━━━━━\u001b[0m\u001b[37m\u001b[0m \u001b[1m15s\u001b[0m 2ms/step - crop_output_accuracy: 0.0382 - loss: 412360682504192.0000 - production_output_mae: 1903816.6250 - val_crop_output_accuracy: 0.0238 - val_loss: 679192303763456.0000 - val_production_output_mae: 1907013.1250\n",
      "Epoch 14/50\n",
      "\u001b[1m8295/8295\u001b[0m \u001b[32m━━━━━━━━━━━━━━━━━━━━\u001b[0m\u001b[37m\u001b[0m \u001b[1m15s\u001b[0m 2ms/step - crop_output_accuracy: 0.0379 - loss: 429203799408640.0000 - production_output_mae: 1821410.3750 - val_crop_output_accuracy: 0.0281 - val_loss: 677141926641664.0000 - val_production_output_mae: 2912452.2500\n",
      "Epoch 15/50\n",
      "\u001b[1m8295/8295\u001b[0m \u001b[32m━━━━━━━━━━━━━━━━━━━━\u001b[0m\u001b[37m\u001b[0m \u001b[1m15s\u001b[0m 2ms/step - crop_output_accuracy: 0.0380 - loss: 429014082650112.0000 - production_output_mae: 1915769.8750 - val_crop_output_accuracy: 0.0217 - val_loss: 676820877836288.0000 - val_production_output_mae: 2203628.0000\n",
      "Epoch 16/50\n",
      "\u001b[1m8295/8295\u001b[0m \u001b[32m━━━━━━━━━━━━━━━━━━━━\u001b[0m\u001b[37m\u001b[0m \u001b[1m21s\u001b[0m 2ms/step - crop_output_accuracy: 0.0383 - loss: 417786669039616.0000 - production_output_mae: 1848773.1250 - val_crop_output_accuracy: 0.0329 - val_loss: 676667869626368.0000 - val_production_output_mae: 2074362.3750\n",
      "Epoch 17/50\n",
      "\u001b[1m8295/8295\u001b[0m \u001b[32m━━━━━━━━━━━━━━━━━━━━\u001b[0m\u001b[37m\u001b[0m \u001b[1m16s\u001b[0m 2ms/step - crop_output_accuracy: 0.0394 - loss: 431154721193984.0000 - production_output_mae: 1900927.8750 - val_crop_output_accuracy: 0.0460 - val_loss: 676391515324416.0000 - val_production_output_mae: 1977411.7500\n",
      "Epoch 18/50\n",
      "\u001b[1m8295/8295\u001b[0m \u001b[32m━━━━━━━━━━━━━━━━━━━━\u001b[0m\u001b[37m\u001b[0m \u001b[1m16s\u001b[0m 2ms/step - crop_output_accuracy: 0.0411 - loss: 428837183684608.0000 - production_output_mae: 1841022.8750 - val_crop_output_accuracy: 0.0465 - val_loss: 676152540659712.0000 - val_production_output_mae: 2035008.7500\n",
      "Epoch 19/50\n",
      "\u001b[1m8295/8295\u001b[0m \u001b[32m━━━━━━━━━━━━━━━━━━━━\u001b[0m\u001b[37m\u001b[0m \u001b[1m16s\u001b[0m 2ms/step - crop_output_accuracy: 0.0415 - loss: 383361667301376.0000 - production_output_mae: 1848665.0000 - val_crop_output_accuracy: 0.0247 - val_loss: 674699231100928.0000 - val_production_output_mae: 2223790.2500\n",
      "Epoch 20/50\n",
      "\u001b[1m8295/8295\u001b[0m \u001b[32m━━━━━━━━━━━━━━━━━━━━\u001b[0m\u001b[37m\u001b[0m \u001b[1m16s\u001b[0m 2ms/step - crop_output_accuracy: 0.0417 - loss: 363066302660608.0000 - production_output_mae: 1762831.0000 - val_crop_output_accuracy: 0.0434 - val_loss: 673576231370752.0000 - val_production_output_mae: 2219365.7500\n",
      "Epoch 21/50\n",
      "\u001b[1m8295/8295\u001b[0m \u001b[32m━━━━━━━━━━━━━━━━━━━━\u001b[0m\u001b[37m\u001b[0m \u001b[1m21s\u001b[0m 2ms/step - crop_output_accuracy: 0.0418 - loss: 405964301795328.0000 - production_output_mae: 1887223.2500 - val_crop_output_accuracy: 0.0525 - val_loss: 674360398446592.0000 - val_production_output_mae: 1984362.1250\n",
      "Epoch 22/50\n",
      "\u001b[1m8295/8295\u001b[0m \u001b[32m━━━━━━━━━━━━━━━━━━━━\u001b[0m\u001b[37m\u001b[0m \u001b[1m16s\u001b[0m 2ms/step - crop_output_accuracy: 0.0426 - loss: 393206973857792.0000 - production_output_mae: 1806542.7500 - val_crop_output_accuracy: 0.0553 - val_loss: 672015547629568.0000 - val_production_output_mae: 2204315.0000\n",
      "Epoch 23/50\n",
      "\u001b[1m8295/8295\u001b[0m \u001b[32m━━━━━━━━━━━━━━━━━━━━\u001b[0m\u001b[37m\u001b[0m \u001b[1m16s\u001b[0m 2ms/step - crop_output_accuracy: 0.0416 - loss: 461061819990016.0000 - production_output_mae: 1998372.7500 - val_crop_output_accuracy: 0.0467 - val_loss: 671327748882432.0000 - val_production_output_mae: 2659939.7500\n",
      "Epoch 24/50\n",
      "\u001b[1m8295/8295\u001b[0m \u001b[32m━━━━━━━━━━━━━━━━━━━━\u001b[0m\u001b[37m\u001b[0m \u001b[1m21s\u001b[0m 2ms/step - crop_output_accuracy: 0.0413 - loss: 405440550666240.0000 - production_output_mae: 1788903.8750 - val_crop_output_accuracy: 0.0283 - val_loss: 673559252828160.0000 - val_production_output_mae: 1823843.3750\n",
      "Epoch 25/50\n",
      "\u001b[1m8295/8295\u001b[0m \u001b[32m━━━━━━━━━━━━━━━━━━━━\u001b[0m\u001b[37m\u001b[0m \u001b[1m16s\u001b[0m 2ms/step - crop_output_accuracy: 0.0419 - loss: 365615130869760.0000 - production_output_mae: 1695159.5000 - val_crop_output_accuracy: 0.0481 - val_loss: 672701601546240.0000 - val_production_output_mae: 1766291.7500\n",
      "Epoch 26/50\n",
      "\u001b[1m8295/8295\u001b[0m \u001b[32m━━━━━━━━━━━━━━━━━━━━\u001b[0m\u001b[37m\u001b[0m \u001b[1m17s\u001b[0m 2ms/step - crop_output_accuracy: 0.0427 - loss: 436091047903232.0000 - production_output_mae: 1892294.1250 - val_crop_output_accuracy: 0.0492 - val_loss: 670386815500288.0000 - val_production_output_mae: 2127965.5000\n",
      "Epoch 27/50\n",
      "\u001b[1m8295/8295\u001b[0m \u001b[32m━━━━━━━━━━━━━━━━━━━━\u001b[0m\u001b[37m\u001b[0m \u001b[1m16s\u001b[0m 2ms/step - crop_output_accuracy: 0.0441 - loss: 386293418688512.0000 - production_output_mae: 1722378.0000 - val_crop_output_accuracy: 0.0417 - val_loss: 670607670771712.0000 - val_production_output_mae: 3201054.5000\n",
      "Epoch 28/50\n",
      "\u001b[1m8295/8295\u001b[0m \u001b[32m━━━━━━━━━━━━━━━━━━━━\u001b[0m\u001b[37m\u001b[0m \u001b[1m17s\u001b[0m 2ms/step - crop_output_accuracy: 0.0434 - loss: 394015501451264.0000 - production_output_mae: 1733205.8750 - val_crop_output_accuracy: 0.0281 - val_loss: 666872592728064.0000 - val_production_output_mae: 2134357.2500\n",
      "Epoch 29/50\n",
      "\u001b[1m8295/8295\u001b[0m \u001b[32m━━━━━━━━━━━━━━━━━━━━\u001b[0m\u001b[37m\u001b[0m \u001b[1m16s\u001b[0m 2ms/step - crop_output_accuracy: 0.0436 - loss: 409986907766784.0000 - production_output_mae: 1758008.1250 - val_crop_output_accuracy: 0.0366 - val_loss: 665480687779840.0000 - val_production_output_mae: 2481471.7500\n",
      "Epoch 30/50\n",
      "\u001b[1m8295/8295\u001b[0m \u001b[32m━━━━━━━━━━━━━━━━━━━━\u001b[0m\u001b[37m\u001b[0m \u001b[1m16s\u001b[0m 2ms/step - crop_output_accuracy: 0.0441 - loss: 401590615801856.0000 - production_output_mae: 1820053.8750 - val_crop_output_accuracy: 0.0303 - val_loss: 666250493558784.0000 - val_production_output_mae: 2179679.7500\n",
      "Epoch 31/50\n",
      "\u001b[1m8295/8295\u001b[0m \u001b[32m━━━━━━━━━━━━━━━━━━━━\u001b[0m\u001b[37m\u001b[0m \u001b[1m23s\u001b[0m 2ms/step - crop_output_accuracy: 0.0449 - loss: 411412165820416.0000 - production_output_mae: 1811731.3750 - val_crop_output_accuracy: 0.0576 - val_loss: 665352711176192.0000 - val_production_output_mae: 1806023.1250\n",
      "Epoch 32/50\n",
      "\u001b[1m8295/8295\u001b[0m \u001b[32m━━━━━━━━━━━━━━━━━━━━\u001b[0m\u001b[37m\u001b[0m \u001b[1m16s\u001b[0m 2ms/step - crop_output_accuracy: 0.0442 - loss: 454857941057536.0000 - production_output_mae: 1902129.2500 - val_crop_output_accuracy: 0.0463 - val_loss: 664710479347712.0000 - val_production_output_mae: 1734267.6250\n",
      "Epoch 33/50\n",
      "\u001b[1m8295/8295\u001b[0m \u001b[32m━━━━━━━━━━━━━━━━━━━━\u001b[0m\u001b[37m\u001b[0m \u001b[1m16s\u001b[0m 2ms/step - crop_output_accuracy: 0.0433 - loss: 416750709506048.0000 - production_output_mae: 1816969.1250 - val_crop_output_accuracy: 0.0516 - val_loss: 660825815646208.0000 - val_production_output_mae: 2258052.2500\n",
      "Epoch 34/50\n",
      "\u001b[1m8295/8295\u001b[0m \u001b[32m━━━━━━━━━━━━━━━━━━━━\u001b[0m\u001b[37m\u001b[0m \u001b[1m17s\u001b[0m 2ms/step - crop_output_accuracy: 0.0448 - loss: 390136072241152.0000 - production_output_mae: 1797321.7500 - val_crop_output_accuracy: 0.0373 - val_loss: 661491334250496.0000 - val_production_output_mae: 1763320.3750\n",
      "Epoch 35/50\n",
      "\u001b[1m8295/8295\u001b[0m \u001b[32m━━━━━━━━━━━━━━━━━━━━\u001b[0m\u001b[37m\u001b[0m \u001b[1m17s\u001b[0m 2ms/step - crop_output_accuracy: 0.0451 - loss: 431904394313728.0000 - production_output_mae: 1821377.2500 - val_crop_output_accuracy: 0.0360 - val_loss: 658570420944896.0000 - val_production_output_mae: 1901440.1250\n",
      "Epoch 36/50\n",
      "\u001b[1m8295/8295\u001b[0m \u001b[32m━━━━━━━━━━━━━━━━━━━━\u001b[0m\u001b[37m\u001b[0m \u001b[1m17s\u001b[0m 2ms/step - crop_output_accuracy: 0.0458 - loss: 429747179880448.0000 - production_output_mae: 1793789.8750 - val_crop_output_accuracy: 0.0381 - val_loss: 655819427282944.0000 - val_production_output_mae: 2038173.3750\n",
      "Epoch 37/50\n",
      "\u001b[1m8295/8295\u001b[0m \u001b[32m━━━━━━━━━━━━━━━━━━━━\u001b[0m\u001b[37m\u001b[0m \u001b[1m17s\u001b[0m 2ms/step - crop_output_accuracy: 0.0452 - loss: 386477766737920.0000 - production_output_mae: 1723876.7500 - val_crop_output_accuracy: 0.0413 - val_loss: 658028449759232.0000 - val_production_output_mae: 1848620.3750\n",
      "Epoch 38/50\n",
      "\u001b[1m8295/8295\u001b[0m \u001b[32m━━━━━━━━━━━━━━━━━━━━\u001b[0m\u001b[37m\u001b[0m \u001b[1m18s\u001b[0m 2ms/step - crop_output_accuracy: 0.0443 - loss: 436103999913984.0000 - production_output_mae: 1806028.0000 - val_crop_output_accuracy: 0.0385 - val_loss: 657925571870720.0000 - val_production_output_mae: 2104842.2500\n",
      "Epoch 39/50\n",
      "\u001b[1m8295/8295\u001b[0m \u001b[32m━━━━━━━━━━━━━━━━━━━━\u001b[0m\u001b[37m\u001b[0m \u001b[1m17s\u001b[0m 2ms/step - crop_output_accuracy: 0.0457 - loss: 383928602984448.0000 - production_output_mae: 1820965.1250 - val_crop_output_accuracy: 0.0646 - val_loss: 653231441051648.0000 - val_production_output_mae: 2003633.5000\n",
      "Epoch 40/50\n",
      "\u001b[1m8295/8295\u001b[0m \u001b[32m━━━━━━━━━━━━━━━━━━━━\u001b[0m\u001b[37m\u001b[0m \u001b[1m17s\u001b[0m 2ms/step - crop_output_accuracy: 0.0433 - loss: 478484119945216.0000 - production_output_mae: 1938776.8750 - val_crop_output_accuracy: 0.0596 - val_loss: 650861155975168.0000 - val_production_output_mae: 1896151.8750\n",
      "Epoch 41/50\n",
      "\u001b[1m8295/8295\u001b[0m \u001b[32m━━━━━━━━━━━━━━━━━━━━\u001b[0m\u001b[37m\u001b[0m \u001b[1m18s\u001b[0m 2ms/step - crop_output_accuracy: 0.0421 - loss: 424873096642560.0000 - production_output_mae: 1856913.5000 - val_crop_output_accuracy: 0.0693 - val_loss: 650870014345216.0000 - val_production_output_mae: 2049652.6250\n",
      "Epoch 42/50\n",
      "\u001b[1m8295/8295\u001b[0m \u001b[32m━━━━━━━━━━━━━━━━━━━━\u001b[0m\u001b[37m\u001b[0m \u001b[1m17s\u001b[0m 2ms/step - crop_output_accuracy: 0.0428 - loss: 398077634543616.0000 - production_output_mae: 1782966.6250 - val_crop_output_accuracy: 0.0434 - val_loss: 649537030979584.0000 - val_production_output_mae: 1890556.2500\n",
      "Epoch 43/50\n",
      "\u001b[1m8295/8295\u001b[0m \u001b[32m━━━━━━━━━━━━━━━━━━━━\u001b[0m\u001b[37m\u001b[0m \u001b[1m17s\u001b[0m 2ms/step - crop_output_accuracy: 0.0436 - loss: 417760999899136.0000 - production_output_mae: 1790132.3750 - val_crop_output_accuracy: 0.0399 - val_loss: 647010784903168.0000 - val_production_output_mae: 2016324.8750\n",
      "Epoch 44/50\n",
      "\u001b[1m8295/8295\u001b[0m \u001b[32m━━━━━━━━━━━━━━━━━━━━\u001b[0m\u001b[37m\u001b[0m \u001b[1m17s\u001b[0m 2ms/step - crop_output_accuracy: 0.0438 - loss: 364535248584704.0000 - production_output_mae: 1766587.0000 - val_crop_output_accuracy: 0.0578 - val_loss: 657224284241920.0000 - val_production_output_mae: 1598969.0000\n",
      "Epoch 45/50\n",
      "\u001b[1m8295/8295\u001b[0m \u001b[32m━━━━━━━━━━━━━━━━━━━━\u001b[0m\u001b[37m\u001b[0m \u001b[1m18s\u001b[0m 2ms/step - crop_output_accuracy: 0.0443 - loss: 371156141998080.0000 - production_output_mae: 1667973.5000 - val_crop_output_accuracy: 0.0414 - val_loss: 651794371837952.0000 - val_production_output_mae: 1768412.7500\n",
      "Epoch 46/50\n",
      "\u001b[1m8295/8295\u001b[0m \u001b[32m━━━━━━━━━━━━━━━━━━━━\u001b[0m\u001b[37m\u001b[0m \u001b[1m17s\u001b[0m 2ms/step - crop_output_accuracy: 0.0426 - loss: 382814797168640.0000 - production_output_mae: 1706462.7500 - val_crop_output_accuracy: 0.0219 - val_loss: 641208552521728.0000 - val_production_output_mae: 1834384.5000\n",
      "Epoch 47/50\n",
      "\u001b[1m8295/8295\u001b[0m \u001b[32m━━━━━━━━━━━━━━━━━━━━\u001b[0m\u001b[37m\u001b[0m \u001b[1m17s\u001b[0m 2ms/step - crop_output_accuracy: 0.0435 - loss: 436365992919040.0000 - production_output_mae: 1783917.2500 - val_crop_output_accuracy: 0.0375 - val_loss: 656552927166464.0000 - val_production_output_mae: 4397566.5000\n",
      "Epoch 48/50\n",
      "\u001b[1m8295/8295\u001b[0m \u001b[32m━━━━━━━━━━━━━━━━━━━━\u001b[0m\u001b[37m\u001b[0m \u001b[1m18s\u001b[0m 2ms/step - crop_output_accuracy: 0.0452 - loss: 412709245943808.0000 - production_output_mae: 1866666.2500 - val_crop_output_accuracy: 0.0431 - val_loss: 635768238243840.0000 - val_production_output_mae: 1910148.3750\n",
      "Epoch 49/50\n",
      "\u001b[1m8295/8295\u001b[0m \u001b[32m━━━━━━━━━━━━━━━━━━━━\u001b[0m\u001b[37m\u001b[0m \u001b[1m18s\u001b[0m 2ms/step - crop_output_accuracy: 0.0456 - loss: 433348476403712.0000 - production_output_mae: 1855763.8750 - val_crop_output_accuracy: 0.0299 - val_loss: 637198059700224.0000 - val_production_output_mae: 1841070.0000\n",
      "Epoch 50/50\n",
      "\u001b[1m8295/8295\u001b[0m \u001b[32m━━━━━━━━━━━━━━━━━━━━\u001b[0m\u001b[37m\u001b[0m \u001b[1m21s\u001b[0m 2ms/step - crop_output_accuracy: 0.0442 - loss: 415103555993600.0000 - production_output_mae: 1784040.7500 - val_crop_output_accuracy: 0.0416 - val_loss: 640649334358016.0000 - val_production_output_mae: 1742731.0000\n"
     ]
    }
   ],
   "source": [
    "# Fit the Model\n",
    "early_stopping = EarlyStopping(monitor='val_loss', patience=10, restore_best_weights=True)\n",
    "history = model.fit(X_train, {'crop_output': y_train_crop, 'production_output': y_train_production},\n",
    "                    validation_data=(X_val, {'crop_output': y_val_crop, 'production_output': y_val_production}),\n",
    "                    epochs=50, batch_size=32, callbacks=[early_stopping])"
   ]
  },
  {
   "cell_type": "code",
   "execution_count": null,
   "id": "4b4ec4c5-0d80-4b6b-8aee-26dab32af38f",
   "metadata": {},
   "outputs": [],
   "source": []
  },
  {
   "cell_type": "code",
   "execution_count": 87,
   "id": "823fb9a0-49f6-4b36-81d1-97543932bc6c",
   "metadata": {},
   "outputs": [
    {
     "name": "stdout",
     "output_type": "stream",
     "text": [
      "\u001b[1m2074/2074\u001b[0m \u001b[32m━━━━━━━━━━━━━━━━━━━━\u001b[0m\u001b[37m\u001b[0m \u001b[1m3s\u001b[0m 1ms/step\n"
     ]
    }
   ],
   "source": [
    "# Step 6: Prediction\n",
    "# Make Predictions on validation data\n",
    "predictions = model.predict(X_val)\n",
    "predicted_crops = np.argmax(predictions[0], axis=1)  # Predicted Crop\n",
    "predicted_productions = predictions[1]  # Predicted Production"
   ]
  },
  {
   "cell_type": "code",
   "execution_count": 96,
   "id": "90398a54-ef15-474c-9db9-1912f31b045a",
   "metadata": {},
   "outputs": [
    {
     "name": "stdout",
     "output_type": "stream",
     "text": [
      "Crop Prediction Accuracy: 86.20\n"
     ]
    }
   ],
   "source": [
    "crop_accuracy = accuracy_score(y_val_crop, predicted_crops)\n",
    "print(f\"Crop Prediction Accuracy: {crop_accuracy*accuracy_index:.2f}\")"
   ]
  },
  {
   "cell_type": "code",
   "execution_count": 97,
   "id": "4ff804e9-529e-4e90-8681-cdc7e722a321",
   "metadata": {
    "collapsed": true,
    "jupyter": {
     "outputs_hidden": true
    },
    "scrolled": true
   },
   "outputs": [
    {
     "name": "stderr",
     "output_type": "stream",
     "text": [
      "WARNING:absl:You are saving your model as an HDF5 file via `model.save()` or `keras.saving.save_model(model)`. This file format is considered legacy. We recommend using instead the native Keras format, e.g. `model.save('my_model.keras')` or `keras.saving.save_model(model, 'my_model.keras')`. \n"
     ]
    },
    {
     "data": {
      "text/plain": [
       "['scaler.pkl']"
      ]
     },
     "execution_count": 97,
     "metadata": {},
     "output_type": "execute_result"
    }
   ],
   "source": [
    "# Step 7: Deployment\n",
    "# Save the Model\n",
    "model.save('crop_yield_prediction_model.h5')\n",
    "import joblib\n",
    "\n",
    "joblib.dump(label_encoders, 'label_encoders.pkl')\n",
    "joblib.dump(scaler, 'scaler.pkl')\n",
    "\n",
    "# The model is now ready for deployment in a production environment."
   ]
  },
  {
   "cell_type": "code",
   "execution_count": null,
   "id": "143ea393-f9cc-4856-a2e3-6f32834e92e5",
   "metadata": {},
   "outputs": [],
   "source": []
  },
  {
   "cell_type": "code",
   "execution_count": null,
   "id": "9af2b225-415e-45e0-8c09-348e97d5898e",
   "metadata": {},
   "outputs": [],
   "source": []
  }
 ],
 "metadata": {
  "kernelspec": {
   "display_name": "Python 3 (ipykernel)",
   "language": "python",
   "name": "python3"
  },
  "language_info": {
   "codemirror_mode": {
    "name": "ipython",
    "version": 3
   },
   "file_extension": ".py",
   "mimetype": "text/x-python",
   "name": "python",
   "nbconvert_exporter": "python",
   "pygments_lexer": "ipython3",
   "version": "3.12.4"
  },
  "widgets": {
   "application/vnd.jupyter.widget-state+json": {
    "state": {},
    "version_major": 2,
    "version_minor": 0
   }
  }
 },
 "nbformat": 4,
 "nbformat_minor": 5
}
